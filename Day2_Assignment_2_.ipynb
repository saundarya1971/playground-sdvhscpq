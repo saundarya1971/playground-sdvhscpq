{
  "nbformat": 4,
  "nbformat_minor": 0,
  "metadata": {
    "colab": {
      "name": "Day2_Assignment 2 .ipynb",
      "provenance": [],
      "authorship_tag": "ABX9TyOn5VhfX8knxQwOY1uYhBuP",
      "include_colab_link": true
    },
    "kernelspec": {
      "name": "python3",
      "display_name": "Python 3"
    },
    "language_info": {
      "name": "python"
    }
  },
  "cells": [
    {
      "cell_type": "markdown",
      "metadata": {
        "id": "view-in-github",
        "colab_type": "text"
      },
      "source": [
        "<a href=\"https://colab.research.google.com/github/saundarya1971/playground-sdvhscpq/blob/master/Day2_Assignment_2_.ipynb\" target=\"_parent\"><img src=\"https://colab.research.google.com/assets/colab-badge.svg\" alt=\"Open In Colab\"/></a>"
      ]
    },
    {
      "cell_type": "code",
      "metadata": {
        "id": "3c0Ef9GRxzfJ"
      },
      "source": [
        "import matplotlib.pyplot as plt\n",
        "import numpy as np\n",
        "import pandas as pd\n",
        "%matplotlib inline\n",
        "import seaborn as sns\n",
        "from numpy.random import randn,randint,uniform ,sample\n",
        "\n"
      ],
      "execution_count": 4,
      "outputs": []
    },
    {
      "cell_type": "code",
      "metadata": {
        "colab": {
          "base_uri": "https://localhost:8080/",
          "height": 203
        },
        "id": "8_QEhAd1zvwZ",
        "outputId": "23f26ac3-633a-4831-e259-acfd4f814244"
      },
      "source": [
        "df = pd.DataFrame(randn(10,4), columns = ['a','b' ,'c','d'])\n",
        "df.head()"
      ],
      "execution_count": 8,
      "outputs": [
        {
          "output_type": "execute_result",
          "data": {
            "text/html": [
              "<div>\n",
              "<style scoped>\n",
              "    .dataframe tbody tr th:only-of-type {\n",
              "        vertical-align: middle;\n",
              "    }\n",
              "\n",
              "    .dataframe tbody tr th {\n",
              "        vertical-align: top;\n",
              "    }\n",
              "\n",
              "    .dataframe thead th {\n",
              "        text-align: right;\n",
              "    }\n",
              "</style>\n",
              "<table border=\"1\" class=\"dataframe\">\n",
              "  <thead>\n",
              "    <tr style=\"text-align: right;\">\n",
              "      <th></th>\n",
              "      <th>a</th>\n",
              "      <th>b</th>\n",
              "      <th>c</th>\n",
              "      <th>d</th>\n",
              "    </tr>\n",
              "  </thead>\n",
              "  <tbody>\n",
              "    <tr>\n",
              "      <th>0</th>\n",
              "      <td>0.466940</td>\n",
              "      <td>1.933550</td>\n",
              "      <td>0.889593</td>\n",
              "      <td>-0.055875</td>\n",
              "    </tr>\n",
              "    <tr>\n",
              "      <th>1</th>\n",
              "      <td>1.547294</td>\n",
              "      <td>-0.492398</td>\n",
              "      <td>0.529912</td>\n",
              "      <td>-0.863499</td>\n",
              "    </tr>\n",
              "    <tr>\n",
              "      <th>2</th>\n",
              "      <td>0.098369</td>\n",
              "      <td>-0.111125</td>\n",
              "      <td>0.885720</td>\n",
              "      <td>0.827202</td>\n",
              "    </tr>\n",
              "    <tr>\n",
              "      <th>3</th>\n",
              "      <td>0.285769</td>\n",
              "      <td>0.317881</td>\n",
              "      <td>-1.206480</td>\n",
              "      <td>0.607155</td>\n",
              "    </tr>\n",
              "    <tr>\n",
              "      <th>4</th>\n",
              "      <td>-0.914983</td>\n",
              "      <td>-0.410920</td>\n",
              "      <td>0.882402</td>\n",
              "      <td>0.754598</td>\n",
              "    </tr>\n",
              "  </tbody>\n",
              "</table>\n",
              "</div>"
            ],
            "text/plain": [
              "          a         b         c         d\n",
              "0  0.466940  1.933550  0.889593 -0.055875\n",
              "1  1.547294 -0.492398  0.529912 -0.863499\n",
              "2  0.098369 -0.111125  0.885720  0.827202\n",
              "3  0.285769  0.317881 -1.206480  0.607155\n",
              "4 -0.914983 -0.410920  0.882402  0.754598"
            ]
          },
          "metadata": {
            "tags": []
          },
          "execution_count": 8
        }
      ]
    },
    {
      "cell_type": "code",
      "metadata": {
        "colab": {
          "base_uri": "https://localhost:8080/",
          "height": 604
        },
        "id": "KLuDnJ5_yK9K",
        "outputId": "8e1f5fc4-bddb-49a1-dbda-a95964742fc1"
      },
      "source": [
        "df.plot(kind ='bar', figsize =(10,10))\n",
        "plt.title(\"BAR Graph\")\n",
        "plt.show()"
      ],
      "execution_count": 9,
      "outputs": [
        {
          "output_type": "display_data",
          "data": {
            "image/png": "[encoded data removed]",
            "text/plain": [
              "<Figure size 720x720 with 1 Axes>"
            ]
          },
          "metadata": {
            "tags": [],
            "needs_background": "light"
          }
        }
      ]
    }
  ]
}